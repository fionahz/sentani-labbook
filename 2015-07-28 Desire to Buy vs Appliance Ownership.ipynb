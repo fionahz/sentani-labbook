{
 "cells": [
  {
   "cell_type": "markdown",
   "metadata": {},
   "source": [
    "#Desire to Buy vs Appliance Ownership"
   ]
  },
  {
   "cell_type": "markdown",
   "metadata": {},
   "source": [
    "##General Code"
   ]
  },
  {
   "cell_type": "code",
   "execution_count": 52,
   "metadata": {
    "collapsed": true
   },
   "outputs": [],
   "source": [
    "%matplotlib inline\n",
    "import pandas as pd\n",
    "import seaborn as sns\n",
    "import numpy as np\n",
    "import matplotlib.pyplot as plt\n",
    "import pysentani\n",
    "import scipy as sp"
   ]
  },
  {
   "cell_type": "code",
   "execution_count": 53,
   "metadata": {
    "collapsed": false
   },
   "outputs": [
    {
     "name": "stdout",
     "output_type": "stream",
     "text": [
      "number of entries = 1184\n",
      "number of columns = 274\n"
     ]
    }
   ],
   "source": [
    "survey = pd.read_excel('../data-clean/sentani-merged-cleaned-2015-06-10.xlsx',na_values=[''])\n",
    "print('number of entries =', len(survey))\n",
    "print('number of columns =', len(survey.columns))"
   ]
  },
  {
   "cell_type": "code",
   "execution_count": 57,
   "metadata": {
    "collapsed": false
   },
   "outputs": [
    {
     "name": "stdout",
     "output_type": "stream",
     "text": [
      "app_now\n",
      "app_now/lighting\n",
      "app_now/TV\n",
      "app_now/radio\n",
      "app_now/fridge\n",
      "app_now/fan\n",
      "app_now/rice_cooker\n",
      "app_now/other_cooking\n",
      "app_now/welder\n",
      "app_now/grinder\n",
      "app_now/saw\n",
      "app_now/other_tools\n",
      "app_now/other\n"
     ]
    }
   ],
   "source": [
    "pysentani.similar_columns(survey,'app_now')"
   ]
  },
  {
   "cell_type": "markdown",
   "metadata": {},
   "source": [
    "##Functions to Create Crosstabs "
   ]
  },
  {
   "cell_type": "code",
   "execution_count": 58,
   "metadata": {
    "collapsed": false
   },
   "outputs": [],
   "source": [
    "#Converts null values to text so that they will appear in the crosstab returned\n",
    "def now_vs_buy_crosstab(now,buy):\n",
    "    survey[now] = survey[now].fillna('NA')\n",
    "    survey[buy] = survey[buy].fillna('NA')\n",
    "    \n",
    "    return pd.crosstab(survey[now],survey[buy])  \n",
    "\n",
    "#Returns a contingency table with counts from specified columns \n",
    "def contingency_table_normed(survey, column1, column2):\n",
    "        print(pd.crosstab(survey[column1],\n",
    "                          survey[column2]).apply(lambda r: r/r.sum(), axis=1))  \n",
    "\n",
    "#Returns a contingency table with counts but without NAs from specified columns        \n",
    "def dropna_ctable_normed(survey, column1, column2):\n",
    "    survey[column1].dropna()\n",
    "    survey[column2].dropna()\n",
    "    return pd.crosstab(survey[column1],\n",
    "                       survey[column2]).apply(lambda r: r/r.sum(), axis=1)\n",
    "\n",
    "#Find percentage demand for appliances\n",
    "demand_dict = {}\n",
    "\n",
    "def dropna_ctable_demand(survey, column1, column2):\n",
    "    survey[column1].dropna()\n",
    "    survey[column2].dropna()\n",
    "    buy_now_df =  pd.crosstab(survey[column1],\n",
    "                              survey[column2]).apply(lambda r: r/r.sum(), axis=1)\n",
    "    demand_dict.update({column2 : (buy_now_df.loc[0,1] * 100)})\n",
    "\n",
    "for (col1,col2) in (('app_now/rice_cooker','app_buy/rice_cooker'),\n",
    "                    ('app_now/TV','app_buy/TV'),\n",
    "                    ('app_now/fridge','app_buy/fridge'),\n",
    "                    ('app_now/fan','app_buy/fan'),\n",
    "                    ('app_now/lighting','app_buy/lighting'),\n",
    "                    ('app_now/radio','app_buy/radio')):\n",
    "    \n",
    "    result = dropna_ctable_demand(survey,col1,col2)"
   ]
  },
  {
   "cell_type": "markdown",
   "metadata": {},
   "source": [
    "##Percentage Demand for Appliances from Non-owners"
   ]
  },
  {
   "cell_type": "code",
   "execution_count": 59,
   "metadata": {
    "collapsed": false
   },
   "outputs": [
    {
     "data": {
      "text/plain": [
       "<matplotlib.axes._subplots.AxesSubplot at 0x10a289588>"
      ]
     },
     "execution_count": 59,
     "metadata": {},
     "output_type": "execute_result"
    },
    {
     "data": {
      "image/png": "[encoded data removed]",
      "text/plain": [
       "<matplotlib.figure.Figure at 0x10a2ba208>"
      ]
     },
     "metadata": {},
     "output_type": "display_data"
    }
   ],
   "source": [
    "demand_df = pd.Series(demand_dict)\n",
    "demand_df.sort(inplace=True,ascending=False)\n",
    "demand_df.plot(kind='bar')"
   ]
  },
  {
   "cell_type": "markdown",
   "metadata": {},
   "source": [
    "##Example Contingency Table"
   ]
  },
  {
   "cell_type": "code",
   "execution_count": 56,
   "metadata": {
    "collapsed": false
   },
   "outputs": [
    {
     "data": {
      "text/html": [
       "<div>\n",
       "<table border=\"1\" class=\"dataframe\">\n",
       "  <thead>\n",
       "    <tr style=\"text-align: right;\">\n",
       "      <th>app_buy/lighting</th>\n",
       "      <th>0.0</th>\n",
       "      <th>1.0</th>\n",
       "      <th>NA</th>\n",
       "    </tr>\n",
       "    <tr>\n",
       "      <th>app_now/lighting</th>\n",
       "      <th></th>\n",
       "      <th></th>\n",
       "      <th></th>\n",
       "    </tr>\n",
       "  </thead>\n",
       "  <tbody>\n",
       "    <tr>\n",
       "      <th>0.0</th>\n",
       "      <td>48</td>\n",
       "      <td>6</td>\n",
       "      <td>30</td>\n",
       "    </tr>\n",
       "    <tr>\n",
       "      <th>1.0</th>\n",
       "      <td>516</td>\n",
       "      <td>189</td>\n",
       "      <td>246</td>\n",
       "    </tr>\n",
       "    <tr>\n",
       "      <th>NA</th>\n",
       "      <td>11</td>\n",
       "      <td>28</td>\n",
       "      <td>110</td>\n",
       "    </tr>\n",
       "  </tbody>\n",
       "</table>\n",
       "</div>"
      ],
      "text/plain": [
       "app_buy/lighting  0.0  1.0   NA\n",
       "app_now/lighting               \n",
       "0.0                48    6   30\n",
       "1.0               516  189  246\n",
       "NA                 11   28  110"
      ]
     },
     "execution_count": 56,
     "metadata": {},
     "output_type": "execute_result"
    }
   ],
   "source": [
    "now_vs_buy_crosstab('app_now/lighting','app_buy/lighting') "
   ]
  }
 ],
 "metadata": {
  "kernelspec": {
   "display_name": "Python 3",
   "language": "python",
   "name": "python3"
  },
  "language_info": {
   "codemirror_mode": {
    "name": "ipython",
    "version": 3
   },
   "file_extension": ".py",
   "mimetype": "text/x-python",
   "name": "python",
   "nbconvert_exporter": "python",
   "pygments_lexer": "ipython3",
   "version": "3.4.3"
  }
 },
 "nbformat": 4,
 "nbformat_minor": 0
}
