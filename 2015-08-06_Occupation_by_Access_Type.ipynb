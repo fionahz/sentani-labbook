{
 "cells": [
  {
   "cell_type": "code",
   "execution_count": 66,
   "metadata": {
    "collapsed": true
   },
   "outputs": [],
   "source": [
    "%matplotlib inline\n",
    "import pandas as pd\n",
    "import seaborn as sns\n",
    "import numpy as np\n",
    "import matplotlib.pyplot as plt\n",
    "import pysentani"
   ]
  },
  {
   "cell_type": "code",
   "execution_count": 67,
   "metadata": {
    "collapsed": false
   },
   "outputs": [
    {
     "name": "stdout",
     "output_type": "stream",
     "text": [
      "number of entries = 1184\n",
      "number of columns = 274\n"
     ]
    }
   ],
   "source": [
    "survey = pd.read_excel('../data-clean/sentani-merged-cleaned-2015-06-10.xlsx',na_values=[''])\n",
    "print('number of entries =', len(survey))\n",
    "print('number of columns =', len(survey.columns))"
   ]
  },
  {
   "cell_type": "code",
   "execution_count": 68,
   "metadata": {
    "collapsed": false
   },
   "outputs": [],
   "source": [
    "job_survey = pd.get_dummies(survey['job'])\n",
    "\n",
    "survey_ls = [survey, job_survey]\n",
    "\n",
    "survey = pd.concat(survey_ls, axis=1)"
   ]
  },
  {
   "cell_type": "code",
   "execution_count": 69,
   "metadata": {
    "collapsed": true
   },
   "outputs": [],
   "source": [
    "survey['electricity_expenditure_monthly'] = pysentani.elec_expenditure_monthly(survey)\n",
    "survey['electricity_expenditure_monthly_log'] = survey['electricity_expenditure_monthly'].dropna().replace(0, 1)\n",
    "survey['electricity_expenditure_monthly_log'] = np.log10(survey['electricity_expenditure_monthly_log'])\n",
    "survey['income_monthly'] = pysentani.income_monthly(survey)\n",
    "survey['access_type'] = pysentani.access_type(survey)\n",
    "survey['income_monthly'] = survey['income_monthly'].replace(0, 1)\n",
    "survey['income_monthly_log'] = np.log10(survey['income_monthly'])"
   ]
  },
  {
   "cell_type": "code",
   "execution_count": 70,
   "metadata": {
    "collapsed": false
   },
   "outputs": [
    {
     "data": {
      "text/plain": [
       "193"
      ]
     },
     "execution_count": 70,
     "metadata": {},
     "output_type": "execute_result"
    }
   ],
   "source": [
    "df = pd.crosstab(survey['access_type'],survey['farmer'])\n",
    "df[1]['PLN_grid']"
   ]
  },
  {
   "cell_type": "code",
   "execution_count": 71,
   "metadata": {
    "collapsed": false
   },
   "outputs": [
    {
     "name": "stderr",
     "output_type": "stream",
     "text": [
      "/Applications/anaconda/envs/sotolab/lib/python3.4/site-packages/pandas/core/frame.py:2524: SettingWithCopyWarning: \n",
      "A value is trying to be set on a copy of a slice from a DataFrame\n",
      "\n",
      "See the the caveats in the documentation: http://pandas.pydata.org/pandas-docs/stable/indexing.html#indexing-view-versus-copy\n",
      "  **kwargs)\n",
      "/Applications/anaconda/envs/sotolab/lib/python3.4/site-packages/pandas/core/generic.py:2790: SettingWithCopyWarning: \n",
      "A value is trying to be set on a copy of a slice from a DataFrame.\n",
      "Try using .loc[row_indexer,col_indexer] = value instead\n",
      "\n",
      "See the the caveats in the documentation: http://pandas.pydata.org/pandas-docs/stable/indexing.html#indexing-view-versus-copy\n",
      "  regex=regex)\n"
     ]
    },
    {
     "data": {
      "text/html": [
       "<div>\n",
       "<table border=\"1\" class=\"dataframe\">\n",
       "  <thead>\n",
       "    <tr style=\"text-align: right;\">\n",
       "      <th></th>\n",
       "      <th>Access Type</th>\n",
       "      <th>Employed</th>\n",
       "      <th>Job</th>\n",
       "    </tr>\n",
       "  </thead>\n",
       "  <tbody>\n",
       "    <tr>\n",
       "      <th>0</th>\n",
       "      <td>PLN Grid</td>\n",
       "      <td>190</td>\n",
       "      <td>Farmers</td>\n",
       "    </tr>\n",
       "    <tr>\n",
       "      <th>1</th>\n",
       "      <td>PLN Microgrid</td>\n",
       "      <td>39</td>\n",
       "      <td>Farmers</td>\n",
       "    </tr>\n",
       "    <tr>\n",
       "      <th>2</th>\n",
       "      <td>Community Microgrid</td>\n",
       "      <td>13</td>\n",
       "      <td>Farmers</td>\n",
       "    </tr>\n",
       "    <tr>\n",
       "      <th>3</th>\n",
       "      <td>No Access</td>\n",
       "      <td>132</td>\n",
       "      <td>Farmers</td>\n",
       "    </tr>\n",
       "    <tr>\n",
       "      <th>4</th>\n",
       "      <td>PLN Grid</td>\n",
       "      <td>111</td>\n",
       "      <td>Fishermen</td>\n",
       "    </tr>\n",
       "    <tr>\n",
       "      <th>5</th>\n",
       "      <td>PLN Microgrid</td>\n",
       "      <td>40</td>\n",
       "      <td>Fishermen</td>\n",
       "    </tr>\n",
       "    <tr>\n",
       "      <th>6</th>\n",
       "      <td>Community Microgrid</td>\n",
       "      <td>25</td>\n",
       "      <td>Fishermen</td>\n",
       "    </tr>\n",
       "    <tr>\n",
       "      <th>7</th>\n",
       "      <td>No Access</td>\n",
       "      <td>74</td>\n",
       "      <td>Fishermen</td>\n",
       "    </tr>\n",
       "    <tr>\n",
       "      <th>8</th>\n",
       "      <td>PLN Grid</td>\n",
       "      <td>99</td>\n",
       "      <td>Private</td>\n",
       "    </tr>\n",
       "    <tr>\n",
       "      <th>9</th>\n",
       "      <td>PLN Microgrid</td>\n",
       "      <td>7</td>\n",
       "      <td>Private</td>\n",
       "    </tr>\n",
       "    <tr>\n",
       "      <th>10</th>\n",
       "      <td>Community Microgrid</td>\n",
       "      <td>5</td>\n",
       "      <td>Private</td>\n",
       "    </tr>\n",
       "    <tr>\n",
       "      <th>11</th>\n",
       "      <td>No Access</td>\n",
       "      <td>37</td>\n",
       "      <td>Private</td>\n",
       "    </tr>\n",
       "    <tr>\n",
       "      <th>12</th>\n",
       "      <td>PLN Grid</td>\n",
       "      <td>55</td>\n",
       "      <td>Day Labor (or Other)</td>\n",
       "    </tr>\n",
       "    <tr>\n",
       "      <th>13</th>\n",
       "      <td>PLN Microgrid</td>\n",
       "      <td>21</td>\n",
       "      <td>Day Labor (or Other)</td>\n",
       "    </tr>\n",
       "    <tr>\n",
       "      <th>14</th>\n",
       "      <td>Community Microgrid</td>\n",
       "      <td>3</td>\n",
       "      <td>Day Labor (or Other)</td>\n",
       "    </tr>\n",
       "    <tr>\n",
       "      <th>15</th>\n",
       "      <td>No Access</td>\n",
       "      <td>26</td>\n",
       "      <td>Day Labor (or Other)</td>\n",
       "    </tr>\n",
       "    <tr>\n",
       "      <th>16</th>\n",
       "      <td>PLN Grid</td>\n",
       "      <td>62</td>\n",
       "      <td>Government</td>\n",
       "    </tr>\n",
       "    <tr>\n",
       "      <th>17</th>\n",
       "      <td>PLN Microgrid</td>\n",
       "      <td>20</td>\n",
       "      <td>Government</td>\n",
       "    </tr>\n",
       "    <tr>\n",
       "      <th>18</th>\n",
       "      <td>Community Microgrid</td>\n",
       "      <td>4</td>\n",
       "      <td>Government</td>\n",
       "    </tr>\n",
       "    <tr>\n",
       "      <th>19</th>\n",
       "      <td>No Access</td>\n",
       "      <td>25</td>\n",
       "      <td>Government</td>\n",
       "    </tr>\n",
       "    <tr>\n",
       "      <th>20</th>\n",
       "      <td>PLN Grid</td>\n",
       "      <td>16</td>\n",
       "      <td>Business</td>\n",
       "    </tr>\n",
       "    <tr>\n",
       "      <th>21</th>\n",
       "      <td>PLN Microgrid</td>\n",
       "      <td>16</td>\n",
       "      <td>Business</td>\n",
       "    </tr>\n",
       "    <tr>\n",
       "      <th>22</th>\n",
       "      <td>Community Microgrid</td>\n",
       "      <td>1</td>\n",
       "      <td>Business</td>\n",
       "    </tr>\n",
       "    <tr>\n",
       "      <th>23</th>\n",
       "      <td>No Access</td>\n",
       "      <td>7</td>\n",
       "      <td>Business</td>\n",
       "    </tr>\n",
       "    <tr>\n",
       "      <th>24</th>\n",
       "      <td>PLN Grid</td>\n",
       "      <td>5</td>\n",
       "      <td>Skilled Labor</td>\n",
       "    </tr>\n",
       "    <tr>\n",
       "      <th>25</th>\n",
       "      <td>PLN Microgrid</td>\n",
       "      <td>7</td>\n",
       "      <td>Skilled Labor</td>\n",
       "    </tr>\n",
       "    <tr>\n",
       "      <th>26</th>\n",
       "      <td>Community Microgrid</td>\n",
       "      <td>1</td>\n",
       "      <td>Skilled Labor</td>\n",
       "    </tr>\n",
       "    <tr>\n",
       "      <th>27</th>\n",
       "      <td>No Access</td>\n",
       "      <td>1</td>\n",
       "      <td>Skilled Labor</td>\n",
       "    </tr>\n",
       "    <tr>\n",
       "      <th>28</th>\n",
       "      <td>PLN Grid</td>\n",
       "      <td>5</td>\n",
       "      <td>Sell Handy Crafts</td>\n",
       "    </tr>\n",
       "    <tr>\n",
       "      <th>29</th>\n",
       "      <td>PLN Microgrid</td>\n",
       "      <td>3</td>\n",
       "      <td>Sell Handy Crafts</td>\n",
       "    </tr>\n",
       "    <tr>\n",
       "      <th>30</th>\n",
       "      <td>Community Microgrid</td>\n",
       "      <td>0</td>\n",
       "      <td>Sell Handy Crafts</td>\n",
       "    </tr>\n",
       "    <tr>\n",
       "      <th>31</th>\n",
       "      <td>No Access</td>\n",
       "      <td>0</td>\n",
       "      <td>Sell Handy Crafts</td>\n",
       "    </tr>\n",
       "    <tr>\n",
       "      <th>32</th>\n",
       "      <td>PLN Grid</td>\n",
       "      <td>2</td>\n",
       "      <td>Artists</td>\n",
       "    </tr>\n",
       "    <tr>\n",
       "      <th>33</th>\n",
       "      <td>PLN Microgrid</td>\n",
       "      <td>0</td>\n",
       "      <td>Artists</td>\n",
       "    </tr>\n",
       "    <tr>\n",
       "      <th>34</th>\n",
       "      <td>Community Microgrid</td>\n",
       "      <td>0</td>\n",
       "      <td>Artists</td>\n",
       "    </tr>\n",
       "    <tr>\n",
       "      <th>35</th>\n",
       "      <td>No Access</td>\n",
       "      <td>0</td>\n",
       "      <td>Artists</td>\n",
       "    </tr>\n",
       "  </tbody>\n",
       "</table>\n",
       "</div>"
      ],
      "text/plain": [
       "            Access Type  Employed                   Job\n",
       "0              PLN Grid       190               Farmers\n",
       "1         PLN Microgrid        39               Farmers\n",
       "2   Community Microgrid        13               Farmers\n",
       "3             No Access       132               Farmers\n",
       "4              PLN Grid       111             Fishermen\n",
       "5         PLN Microgrid        40             Fishermen\n",
       "6   Community Microgrid        25             Fishermen\n",
       "7             No Access        74             Fishermen\n",
       "8              PLN Grid        99               Private\n",
       "9         PLN Microgrid         7               Private\n",
       "10  Community Microgrid         5               Private\n",
       "11            No Access        37               Private\n",
       "12             PLN Grid        55  Day Labor (or Other)\n",
       "13        PLN Microgrid        21  Day Labor (or Other)\n",
       "14  Community Microgrid         3  Day Labor (or Other)\n",
       "15            No Access        26  Day Labor (or Other)\n",
       "16             PLN Grid        62            Government\n",
       "17        PLN Microgrid        20            Government\n",
       "18  Community Microgrid         4            Government\n",
       "19            No Access        25            Government\n",
       "20             PLN Grid        16              Business\n",
       "21        PLN Microgrid        16              Business\n",
       "22  Community Microgrid         1              Business\n",
       "23            No Access         7              Business\n",
       "24             PLN Grid         5         Skilled Labor\n",
       "25        PLN Microgrid         7         Skilled Labor\n",
       "26  Community Microgrid         1         Skilled Labor\n",
       "27            No Access         1         Skilled Labor\n",
       "28             PLN Grid         5     Sell Handy Crafts\n",
       "29        PLN Microgrid         3     Sell Handy Crafts\n",
       "30  Community Microgrid         0     Sell Handy Crafts\n",
       "31            No Access         0     Sell Handy Crafts\n",
       "32             PLN Grid         2               Artists\n",
       "33        PLN Microgrid         0               Artists\n",
       "34  Community Microgrid         0               Artists\n",
       "35            No Access         0               Artists"
      ]
     },
     "execution_count": 71,
     "metadata": {},
     "output_type": "execute_result"
    }
   ],
   "source": [
    "household_survey = survey[survey['demand_point'] == 'household']\n",
    "household_survey.rename(columns={'access_type': 'Access Type',\n",
    "                                 'farmer': 'Farmers',\n",
    "                                 'fisherman': 'Fishermen',\n",
    "                                 'private': 'Private',\n",
    "                                 'day_labor_or_other': 'Day Labor (or Other)',\n",
    "                                 'government': 'Government',\n",
    "                                 'business': 'Business',\n",
    "                                 'skilled_labor': 'Skilled Labor',\n",
    "                                 'sell_handy_crafts': 'Sell Handy Crafts',\n",
    "                                 'artist': 'Artists'},\n",
    "                                 inplace = True)\n",
    "\n",
    "household_survey.replace(to_replace = {'Access Type': {'PLN_grid': 'PLN Grid',\n",
    "                                                       'community_microgrid': 'Community Microgrid',\n",
    "                                                       'PLN_microgrid': 'PLN Microgrid',\n",
    "                                                       'no_access': 'No Access'}},inplace = True)\n",
    "\n",
    "hh_series = pd.value_counts(household_survey['village_name'])\n",
    "\n",
    "job_series = ['Farmers',\n",
    "              'Fishermen',\n",
    "              'Private',\n",
    "              'Day Labor (or Other)',\n",
    "              'Government',\n",
    "              'Business',\n",
    "              'Skilled Labor',\n",
    "              'Sell Handy Crafts',\n",
    "              'Artists']\n",
    "job_ls = []\n",
    "\n",
    "for jobs in job_series:\n",
    "\n",
    "    at_series = ['PLN Grid','PLN Microgrid','Community Microgrid','No Access'] \n",
    "    temp_job_df = pd.crosstab(household_survey['Access Type'],household_survey[jobs])\n",
    "    \n",
    "    for ats in at_series:\n",
    "        #percent_ownership = (temp_app_df[1.0][ats]/(temp_app_df[1.0][ats] + temp_app_df[0.0][ats])) * 100\n",
    "        job_ls.append({'Access Type':ats,'Job':jobs,'Employed':temp_job_df[1][ats]})\n",
    "\n",
    "\n",
    "job_df = pd.DataFrame(job_ls)\n",
    "job_df"
   ]
  },
  {
   "cell_type": "code",
   "execution_count": 72,
   "metadata": {
    "collapsed": false
   },
   "outputs": [
    {
     "data": {
      "text/plain": [
       "[None, None, None, None]"
      ]
     },
     "execution_count": 72,
     "metadata": {},
     "output_type": "execute_result"
    },
    {
     "data": {
      "image/png": "[encoded data removed]",
      "text/plain": [
       "<matplotlib.figure.Figure at 0x10c28c0b8>"
      ]
     },
     "metadata": {},
     "output_type": "display_data"
    }
   ],
   "source": [
    "sns.set(font_scale = 2)\n",
    "\n",
    "fig_size = plt.rcParams[\"figure.figsize\"]\n",
    "fig_size[0] = 20\n",
    "fig_size[1] = 10\n",
    "plt.rcParams[\"figure.figsize\"] = fig_size\n",
    "\n",
    "fig, ax = plt.subplots()\n",
    "\n",
    "ax = sns.barplot(x=\"Access Type\", y=\"Employed\", hue=\"Job\", data=job_df)\n",
    "\n",
    "#ax.set_xticklabels(app_name_ls)\n",
    "ax.set(xlabel='Job', ylabel='# of People')\n",
    "\n",
    "plt.ylim(0,220)\n",
    "locs, labels = plt.xticks()\n",
    "plt.setp(labels, rotation=45)\n",
    "\n",
    "#fig.savefig('test.pdf')\n"
   ]
  },
  {
   "cell_type": "code",
   "execution_count": 73,
   "metadata": {
    "collapsed": false
   },
   "outputs": [],
   "source": [
    "survey.dropna()\n",
    "corrMatrix= survey.corr()\n",
    "\n",
    "corrMatrix.loc[:,:] =  np.tril(corrMatrix, k=-1) # borrowed from Karl D's answer\n",
    "\n",
    "already_in = set()\n",
    "result = []\n",
    "for col in corrMatrix:\n",
    "    perfect_corr = corrMatrix[col][corrMatrix[col] >= .99][corrMatrix[col] < 1].index.tolist()\n",
    "    if perfect_corr and col not in already_in:\n",
    "        already_in.update(set(perfect_corr))\n",
    "        perfect_corr.append(col)\n",
    "        result.append(perfect_corr)"
   ]
  },
  {
   "cell_type": "code",
   "execution_count": 75,
   "metadata": {
    "collapsed": false
   },
   "outputs": [],
   "source": [
    "#Above, might be interesting if I could figure out how to get columns that weren't all nulls, or I could figure out a\n",
    "#way to separate out possible causal relationships, rather than cooincidental coorelations.  "
   ]
  },
  {
   "cell_type": "code",
   "execution_count": null,
   "metadata": {
    "collapsed": true
   },
   "outputs": [],
   "source": []
  }
 ],
 "metadata": {
  "kernelspec": {
   "display_name": "Python 3",
   "language": "python",
   "name": "python3"
  },
  "language_info": {
   "codemirror_mode": {
    "name": "ipython",
    "version": 3
   },
   "file_extension": ".py",
   "mimetype": "text/x-python",
   "name": "python",
   "nbconvert_exporter": "python",
   "pygments_lexer": "ipython3",
   "version": "3.4.3"
  }
 },
 "nbformat": 4,
 "nbformat_minor": 0
}
